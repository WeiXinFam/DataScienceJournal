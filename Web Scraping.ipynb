{
 "cells": [
  {
   "cell_type": "markdown",
   "metadata": {},
   "source": [
    "# Web Scraping"
   ]
  },
  {
   "cell_type": "markdown",
   "metadata": {},
   "source": [
    "With reference to : https://hackernoon.com/web-scraping-bf2d814cc572"
   ]
  },
  {
   "cell_type": "code",
   "execution_count": 1,
   "metadata": {},
   "outputs": [],
   "source": [
    "import requests"
   ]
  },
  {
   "cell_type": "code",
   "execution_count": 2,
   "metadata": {},
   "outputs": [],
   "source": [
    "page = requests.get(\"http://dataquestio.github.io/web-scraping-pages/simple.html\")"
   ]
  },
  {
   "cell_type": "markdown",
   "metadata": {},
   "source": [
    "After running our request, we get a Response object. This object has a status_code property, which indicates if the page was downloaded successfully. A status_code of 200 means that the page downloaded successfully. Status code starting with a 2 generally indicates success, and a code starting with a 4 or a 5 indicates an error."
   ]
  },
  {
   "cell_type": "code",
   "execution_count": 3,
   "metadata": {},
   "outputs": [
    {
     "data": {
      "text/plain": [
       "200"
      ]
     },
     "execution_count": 3,
     "metadata": {},
     "output_type": "execute_result"
    }
   ],
   "source": [
    "page.status_code"
   ]
  },
  {
   "cell_type": "markdown",
   "metadata": {},
   "source": [
    "We use BeautifulSoup library to parse the document and extract the text in beautiful manner. We have to use print() with it"
   ]
  },
  {
   "cell_type": "code",
   "execution_count": 6,
   "metadata": {},
   "outputs": [],
   "source": [
    "from bs4 import BeautifulSoup\n",
    "soup = BeautifulSoup(page.content,'html.parser')"
   ]
  },
  {
   "cell_type": "code",
   "execution_count": 7,
   "metadata": {},
   "outputs": [
    {
     "name": "stdout",
     "output_type": "stream",
     "text": [
      "<!DOCTYPE html>\n",
      "<html>\n",
      " <head>\n",
      "  <title>\n",
      "   A simple example page\n",
      "  </title>\n",
      " </head>\n",
      " <body>\n",
      "  <p>\n",
      "   Here is some simple content for this page.\n",
      "  </p>\n",
      " </body>\n",
      "</html>\n"
     ]
    }
   ],
   "source": [
    "print(soup.prettify())"
   ]
  },
  {
   "cell_type": "markdown",
   "metadata": {},
   "source": [
    "Now, if you want to select all the elements at the top level of the page using the children property of soup. Note that children returns a list generator, so we need to call the list function on it"
   ]
  },
  {
   "cell_type": "code",
   "execution_count": 8,
   "metadata": {},
   "outputs": [
    {
     "data": {
      "text/plain": [
       "['html', '\\n', <html>\n",
       " <head>\n",
       " <title>A simple example page</title>\n",
       " </head>\n",
       " <body>\n",
       " <p>Here is some simple content for this page.</p>\n",
       " </body>\n",
       " </html>]"
      ]
     },
     "execution_count": 8,
     "metadata": {},
     "output_type": "execute_result"
    }
   ],
   "source": [
    "list(soup.children)"
   ]
  },
  {
   "cell_type": "code",
   "execution_count": 9,
   "metadata": {},
   "outputs": [],
   "source": [
    "html = list(soup.children)[2]"
   ]
  },
  {
   "cell_type": "code",
   "execution_count": 10,
   "metadata": {},
   "outputs": [
    {
     "data": {
      "text/plain": [
       "['\\n', <head>\n",
       " <title>A simple example page</title>\n",
       " </head>, '\\n', <body>\n",
       " <p>Here is some simple content for this page.</p>\n",
       " </body>, '\\n']"
      ]
     },
     "execution_count": 10,
     "metadata": {},
     "output_type": "execute_result"
    }
   ],
   "source": [
    "list(html.children)"
   ]
  },
  {
   "cell_type": "code",
   "execution_count": 12,
   "metadata": {},
   "outputs": [],
   "source": [
    "body = list(html.children)[3]"
   ]
  },
  {
   "cell_type": "code",
   "execution_count": 13,
   "metadata": {},
   "outputs": [
    {
     "data": {
      "text/plain": [
       "<body>\n",
       "<p>Here is some simple content for this page.</p>\n",
       "</body>"
      ]
     },
     "execution_count": 13,
     "metadata": {},
     "output_type": "execute_result"
    }
   ],
   "source": [
    "body"
   ]
  },
  {
   "cell_type": "code",
   "execution_count": 14,
   "metadata": {},
   "outputs": [
    {
     "data": {
      "text/plain": [
       "'Here is some simple content for this page.'"
      ]
     },
     "execution_count": 14,
     "metadata": {},
     "output_type": "execute_result"
    }
   ],
   "source": [
    "p = list(body.children)[1]\n",
    "p.get_text()"
   ]
  },
  {
   "cell_type": "markdown",
   "metadata": {},
   "source": [
    "We can use the get_text method to extract all of the text inside the tag\n",
    "What we did above was useful for figuring out how to navigate a page, but it took a lot of commands to do something fairly simple. If we want to extract a single tag, we can instead use the find_all method, which will find all the instances of a tag on a page"
   ]
  },
  {
   "cell_type": "code",
   "execution_count": 15,
   "metadata": {},
   "outputs": [
    {
     "data": {
      "text/plain": [
       "'Here is some simple content for this page.'"
      ]
     },
     "execution_count": 15,
     "metadata": {},
     "output_type": "execute_result"
    }
   ],
   "source": [
    "soup = BeautifulSoup(page.content, 'html.parser')\n",
    "soup.find_all('p')\n",
    "# Note it returns the list so we use list indexing\n",
    "soup.find_all('p')[0].get_text()"
   ]
  },
  {
   "cell_type": "code",
   "execution_count": 16,
   "metadata": {},
   "outputs": [
    {
     "data": {
      "text/plain": [
       "'Here is some simple content for this page.'"
      ]
     },
     "execution_count": 16,
     "metadata": {},
     "output_type": "execute_result"
    }
   ],
   "source": [
    "soup.find('p').get_text()"
   ]
  },
  {
   "cell_type": "markdown",
   "metadata": {},
   "source": [
    "# WS1"
   ]
  },
  {
   "cell_type": "code",
   "execution_count": 17,
   "metadata": {},
   "outputs": [],
   "source": [
    "import requests\n",
    "from bs4 import BeautifulSoup"
   ]
  },
  {
   "cell_type": "code",
   "execution_count": 18,
   "metadata": {},
   "outputs": [],
   "source": [
    "page = requests.get(\"https://forecast.weather.gov/MapClick.php?lat=37.7772&lon=-122.4168#.XThEcegzZPY\")"
   ]
  },
  {
   "cell_type": "code",
   "execution_count": 19,
   "metadata": {},
   "outputs": [],
   "source": [
    "soup = BeautifulSoup(page.content,'html.parser')"
   ]
  },
  {
   "cell_type": "code",
   "execution_count": 26,
   "metadata": {},
   "outputs": [],
   "source": [
    "seven_day = soup.find(id=\"seven-day-forecast\")\n",
    "# seven_day"
   ]
  },
  {
   "cell_type": "code",
   "execution_count": 29,
   "metadata": {},
   "outputs": [],
   "source": [
    "forecast_items = seven_day.find_all(class_=\"tombstone-container\")\n",
    "# forecast_items"
   ]
  },
  {
   "cell_type": "code",
   "execution_count": 30,
   "metadata": {},
   "outputs": [
    {
     "name": "stdout",
     "output_type": "stream",
     "text": [
      "<div class=\"tombstone-container\">\n",
      " <p class=\"period-name\">\n",
      "  Today\n",
      "  <br/>\n",
      "  <br/>\n",
      " </p>\n",
      " <p>\n",
      "  <img alt=\"Today: Sunny, with a high near 72. Light west southwest wind becoming west 6 to 11 mph in the afternoon. \" class=\"forecast-icon\" src=\"newimages/medium/few.png\" title=\"Today: Sunny, with a high near 72. Light west southwest wind becoming west 6 to 11 mph in the afternoon. \"/>\n",
      " </p>\n",
      " <p class=\"short-desc\">\n",
      "  Sunny\n",
      " </p>\n",
      " <p class=\"temp temp-high\">\n",
      "  High: 72 °F\n",
      " </p>\n",
      "</div>\n"
     ]
    }
   ],
   "source": [
    "#one first item\n",
    "tonight = forecast_items[0]\n",
    "print(tonight.prettify())"
   ]
  },
  {
   "cell_type": "markdown",
   "metadata": {},
   "source": [
    "We'll extract the name of the forecast item"
   ]
  },
  {
   "cell_type": "code",
   "execution_count": 31,
   "metadata": {},
   "outputs": [
    {
     "name": "stdout",
     "output_type": "stream",
     "text": [
      "Today\n",
      "Sunny\n",
      "High: 72 °F\n"
     ]
    }
   ],
   "source": [
    "period = tonight.find(class_ = \"period-name\").get_text()\n",
    "short_Desc = tonight.find(class_ = \"short-desc\").get_text()\n",
    "temp = tonight.find(class_ = \"temp temp-high\").get_text()\n",
    "\n",
    "print(period)\n",
    "print(short_Desc)\n",
    "print(temp)"
   ]
  },
  {
   "cell_type": "code",
   "execution_count": 34,
   "metadata": {},
   "outputs": [
    {
     "name": "stdout",
     "output_type": "stream",
     "text": [
      "['Today', 'Tonight', 'Thursday', 'ThursdayNight', 'Friday', 'FridayNight', 'Saturday', 'SaturdayNight', 'Sunday']\n",
      "['Sunny', 'Partly Cloudy', 'Mostly Sunny', 'Mostly Cloudy', 'Partly Sunny', 'Mostly Cloudy', 'Mostly Sunny', 'Mostly Clear', 'Sunny']\n",
      "['High: 72 °F', 'Low: 56 °F', 'High: 70 °F', 'Low: 57 °F', 'High: 69 °F', 'Low: 57 °F', 'High: 75 °F', 'Low: 59 °F', 'High: 74 °F']\n",
      "['Today: Sunny, with a high near 72. Light west southwest wind becoming west 6 to 11 mph in the afternoon. ', 'Tonight: Partly cloudy, with a low around 56. West southwest wind 7 to 13 mph. ', 'Thursday: Mostly sunny, with a high near 70. West southwest wind 7 to 13 mph. ', 'Thursday Night: Mostly cloudy, with a low around 57. West southwest wind 8 to 11 mph. ', 'Friday: Partly sunny, with a high near 69. West southwest wind 7 to 10 mph. ', 'Friday Night: Mostly cloudy, with a low around 57.', 'Saturday: Mostly sunny, with a high near 75.', 'Saturday Night: Mostly clear, with a low around 59.', 'Sunday: Sunny, with a high near 74.']\n"
     ]
    }
   ],
   "source": [
    "periods=[pds.get_text() for pds in seven_day.select(\".tombstone-container .period-name\")]\n",
    "short_descs = [sd.get_text() for sd in seven_day.select(\".tombstone-container .short-desc\")]\n",
    "temps = [t.get_text() for t in seven_day.select(\".tombstone-container .temp\")]\n",
    "descs = [d[\"title\"] for d in seven_day.select(\".tombstone-container img\")]\n",
    "\n",
    "print(periods)\n",
    "print(short_descs)\n",
    "print(temps)\n",
    "print(descs)"
   ]
  },
  {
   "cell_type": "code",
   "execution_count": 35,
   "metadata": {},
   "outputs": [
    {
     "data": {
      "text/html": [
       "<div>\n",
       "<style scoped>\n",
       "    .dataframe tbody tr th:only-of-type {\n",
       "        vertical-align: middle;\n",
       "    }\n",
       "\n",
       "    .dataframe tbody tr th {\n",
       "        vertical-align: top;\n",
       "    }\n",
       "\n",
       "    .dataframe thead th {\n",
       "        text-align: right;\n",
       "    }\n",
       "</style>\n",
       "<table border=\"1\" class=\"dataframe\">\n",
       "  <thead>\n",
       "    <tr style=\"text-align: right;\">\n",
       "      <th></th>\n",
       "      <th>period</th>\n",
       "      <th>short_desc</th>\n",
       "      <th>temp</th>\n",
       "      <th>desc</th>\n",
       "    </tr>\n",
       "  </thead>\n",
       "  <tbody>\n",
       "    <tr>\n",
       "      <th>0</th>\n",
       "      <td>Today</td>\n",
       "      <td>Sunny</td>\n",
       "      <td>High: 72 °F</td>\n",
       "      <td>Today: Sunny, with a high near 72. Light west ...</td>\n",
       "    </tr>\n",
       "    <tr>\n",
       "      <th>1</th>\n",
       "      <td>Tonight</td>\n",
       "      <td>Partly Cloudy</td>\n",
       "      <td>Low: 56 °F</td>\n",
       "      <td>Tonight: Partly cloudy, with a low around 56. ...</td>\n",
       "    </tr>\n",
       "    <tr>\n",
       "      <th>2</th>\n",
       "      <td>Thursday</td>\n",
       "      <td>Mostly Sunny</td>\n",
       "      <td>High: 70 °F</td>\n",
       "      <td>Thursday: Mostly sunny, with a high near 70. W...</td>\n",
       "    </tr>\n",
       "    <tr>\n",
       "      <th>3</th>\n",
       "      <td>ThursdayNight</td>\n",
       "      <td>Mostly Cloudy</td>\n",
       "      <td>Low: 57 °F</td>\n",
       "      <td>Thursday Night: Mostly cloudy, with a low arou...</td>\n",
       "    </tr>\n",
       "    <tr>\n",
       "      <th>4</th>\n",
       "      <td>Friday</td>\n",
       "      <td>Partly Sunny</td>\n",
       "      <td>High: 69 °F</td>\n",
       "      <td>Friday: Partly sunny, with a high near 69. Wes...</td>\n",
       "    </tr>\n",
       "    <tr>\n",
       "      <th>5</th>\n",
       "      <td>FridayNight</td>\n",
       "      <td>Mostly Cloudy</td>\n",
       "      <td>Low: 57 °F</td>\n",
       "      <td>Friday Night: Mostly cloudy, with a low around...</td>\n",
       "    </tr>\n",
       "    <tr>\n",
       "      <th>6</th>\n",
       "      <td>Saturday</td>\n",
       "      <td>Mostly Sunny</td>\n",
       "      <td>High: 75 °F</td>\n",
       "      <td>Saturday: Mostly sunny, with a high near 75.</td>\n",
       "    </tr>\n",
       "    <tr>\n",
       "      <th>7</th>\n",
       "      <td>SaturdayNight</td>\n",
       "      <td>Mostly Clear</td>\n",
       "      <td>Low: 59 °F</td>\n",
       "      <td>Saturday Night: Mostly clear, with a low aroun...</td>\n",
       "    </tr>\n",
       "    <tr>\n",
       "      <th>8</th>\n",
       "      <td>Sunday</td>\n",
       "      <td>Sunny</td>\n",
       "      <td>High: 74 °F</td>\n",
       "      <td>Sunday: Sunny, with a high near 74.</td>\n",
       "    </tr>\n",
       "  </tbody>\n",
       "</table>\n",
       "</div>"
      ],
      "text/plain": [
       "          period     short_desc         temp  \\\n",
       "0          Today          Sunny  High: 72 °F   \n",
       "1        Tonight  Partly Cloudy   Low: 56 °F   \n",
       "2       Thursday   Mostly Sunny  High: 70 °F   \n",
       "3  ThursdayNight  Mostly Cloudy   Low: 57 °F   \n",
       "4         Friday   Partly Sunny  High: 69 °F   \n",
       "5    FridayNight  Mostly Cloudy   Low: 57 °F   \n",
       "6       Saturday   Mostly Sunny  High: 75 °F   \n",
       "7  SaturdayNight   Mostly Clear   Low: 59 °F   \n",
       "8         Sunday          Sunny  High: 74 °F   \n",
       "\n",
       "                                                desc  \n",
       "0  Today: Sunny, with a high near 72. Light west ...  \n",
       "1  Tonight: Partly cloudy, with a low around 56. ...  \n",
       "2  Thursday: Mostly sunny, with a high near 70. W...  \n",
       "3  Thursday Night: Mostly cloudy, with a low arou...  \n",
       "4  Friday: Partly sunny, with a high near 69. Wes...  \n",
       "5  Friday Night: Mostly cloudy, with a low around...  \n",
       "6       Saturday: Mostly sunny, with a high near 75.  \n",
       "7  Saturday Night: Mostly clear, with a low aroun...  \n",
       "8                Sunday: Sunny, with a high near 74.  "
      ]
     },
     "execution_count": 35,
     "metadata": {},
     "output_type": "execute_result"
    }
   ],
   "source": [
    "import pandas as pd\n",
    "weather = pd.DataFrame({\n",
    "        \"period\": periods, \n",
    "        \"short_desc\": short_descs, \n",
    "        \"temp\": temps, \n",
    "        \"desc\":descs\n",
    "    })\n",
    "weather"
   ]
  },
  {
   "cell_type": "code",
   "execution_count": 36,
   "metadata": {},
   "outputs": [],
   "source": [
    "temp_nums = weather[\"temp\"].str.extract(\"(?P<temp_num>\\d+)\", expand=False)\n",
    "weather[\"temp_num\"] = temp_nums.astype('int')"
   ]
  },
  {
   "cell_type": "code",
   "execution_count": 37,
   "metadata": {},
   "outputs": [
    {
     "data": {
      "text/html": [
       "<div>\n",
       "<style scoped>\n",
       "    .dataframe tbody tr th:only-of-type {\n",
       "        vertical-align: middle;\n",
       "    }\n",
       "\n",
       "    .dataframe tbody tr th {\n",
       "        vertical-align: top;\n",
       "    }\n",
       "\n",
       "    .dataframe thead th {\n",
       "        text-align: right;\n",
       "    }\n",
       "</style>\n",
       "<table border=\"1\" class=\"dataframe\">\n",
       "  <thead>\n",
       "    <tr style=\"text-align: right;\">\n",
       "      <th></th>\n",
       "      <th>period</th>\n",
       "      <th>short_desc</th>\n",
       "      <th>temp</th>\n",
       "      <th>desc</th>\n",
       "      <th>temp_num</th>\n",
       "    </tr>\n",
       "  </thead>\n",
       "  <tbody>\n",
       "    <tr>\n",
       "      <th>0</th>\n",
       "      <td>Today</td>\n",
       "      <td>Sunny</td>\n",
       "      <td>High: 72 °F</td>\n",
       "      <td>Today: Sunny, with a high near 72. Light west ...</td>\n",
       "      <td>72</td>\n",
       "    </tr>\n",
       "    <tr>\n",
       "      <th>1</th>\n",
       "      <td>Tonight</td>\n",
       "      <td>Partly Cloudy</td>\n",
       "      <td>Low: 56 °F</td>\n",
       "      <td>Tonight: Partly cloudy, with a low around 56. ...</td>\n",
       "      <td>56</td>\n",
       "    </tr>\n",
       "    <tr>\n",
       "      <th>2</th>\n",
       "      <td>Thursday</td>\n",
       "      <td>Mostly Sunny</td>\n",
       "      <td>High: 70 °F</td>\n",
       "      <td>Thursday: Mostly sunny, with a high near 70. W...</td>\n",
       "      <td>70</td>\n",
       "    </tr>\n",
       "    <tr>\n",
       "      <th>3</th>\n",
       "      <td>ThursdayNight</td>\n",
       "      <td>Mostly Cloudy</td>\n",
       "      <td>Low: 57 °F</td>\n",
       "      <td>Thursday Night: Mostly cloudy, with a low arou...</td>\n",
       "      <td>57</td>\n",
       "    </tr>\n",
       "    <tr>\n",
       "      <th>4</th>\n",
       "      <td>Friday</td>\n",
       "      <td>Partly Sunny</td>\n",
       "      <td>High: 69 °F</td>\n",
       "      <td>Friday: Partly sunny, with a high near 69. Wes...</td>\n",
       "      <td>69</td>\n",
       "    </tr>\n",
       "    <tr>\n",
       "      <th>5</th>\n",
       "      <td>FridayNight</td>\n",
       "      <td>Mostly Cloudy</td>\n",
       "      <td>Low: 57 °F</td>\n",
       "      <td>Friday Night: Mostly cloudy, with a low around...</td>\n",
       "      <td>57</td>\n",
       "    </tr>\n",
       "    <tr>\n",
       "      <th>6</th>\n",
       "      <td>Saturday</td>\n",
       "      <td>Mostly Sunny</td>\n",
       "      <td>High: 75 °F</td>\n",
       "      <td>Saturday: Mostly sunny, with a high near 75.</td>\n",
       "      <td>75</td>\n",
       "    </tr>\n",
       "    <tr>\n",
       "      <th>7</th>\n",
       "      <td>SaturdayNight</td>\n",
       "      <td>Mostly Clear</td>\n",
       "      <td>Low: 59 °F</td>\n",
       "      <td>Saturday Night: Mostly clear, with a low aroun...</td>\n",
       "      <td>59</td>\n",
       "    </tr>\n",
       "    <tr>\n",
       "      <th>8</th>\n",
       "      <td>Sunday</td>\n",
       "      <td>Sunny</td>\n",
       "      <td>High: 74 °F</td>\n",
       "      <td>Sunday: Sunny, with a high near 74.</td>\n",
       "      <td>74</td>\n",
       "    </tr>\n",
       "  </tbody>\n",
       "</table>\n",
       "</div>"
      ],
      "text/plain": [
       "          period     short_desc         temp  \\\n",
       "0          Today          Sunny  High: 72 °F   \n",
       "1        Tonight  Partly Cloudy   Low: 56 °F   \n",
       "2       Thursday   Mostly Sunny  High: 70 °F   \n",
       "3  ThursdayNight  Mostly Cloudy   Low: 57 °F   \n",
       "4         Friday   Partly Sunny  High: 69 °F   \n",
       "5    FridayNight  Mostly Cloudy   Low: 57 °F   \n",
       "6       Saturday   Mostly Sunny  High: 75 °F   \n",
       "7  SaturdayNight   Mostly Clear   Low: 59 °F   \n",
       "8         Sunday          Sunny  High: 74 °F   \n",
       "\n",
       "                                                desc  temp_num  \n",
       "0  Today: Sunny, with a high near 72. Light west ...        72  \n",
       "1  Tonight: Partly cloudy, with a low around 56. ...        56  \n",
       "2  Thursday: Mostly sunny, with a high near 70. W...        70  \n",
       "3  Thursday Night: Mostly cloudy, with a low arou...        57  \n",
       "4  Friday: Partly sunny, with a high near 69. Wes...        69  \n",
       "5  Friday Night: Mostly cloudy, with a low around...        57  \n",
       "6       Saturday: Mostly sunny, with a high near 75.        75  \n",
       "7  Saturday Night: Mostly clear, with a low aroun...        59  \n",
       "8                Sunday: Sunny, with a high near 74.        74  "
      ]
     },
     "execution_count": 37,
     "metadata": {},
     "output_type": "execute_result"
    }
   ],
   "source": [
    "weather"
   ]
  },
  {
   "cell_type": "markdown",
   "metadata": {},
   "source": [
    "# WS2"
   ]
  },
  {
   "cell_type": "code",
   "execution_count": 38,
   "metadata": {},
   "outputs": [],
   "source": [
    "import requests\n",
    "from bs4 import BeautifulSoup"
   ]
  },
  {
   "cell_type": "code",
   "execution_count": 45,
   "metadata": {},
   "outputs": [],
   "source": [
    "page = requests.get(\"https://www.news.com.au/world\")\n"
   ]
  },
  {
   "cell_type": "code",
   "execution_count": 46,
   "metadata": {},
   "outputs": [
    {
     "data": {
      "text/plain": [
       "200"
      ]
     },
     "execution_count": 46,
     "metadata": {},
     "output_type": "execute_result"
    }
   ],
   "source": [
    "page.status_code"
   ]
  },
  {
   "cell_type": "code",
   "execution_count": 47,
   "metadata": {},
   "outputs": [],
   "source": [
    "soup = BeautifulSoup(page.content,'html.parser')"
   ]
  },
  {
   "cell_type": "code",
   "execution_count": 56,
   "metadata": {},
   "outputs": [],
   "source": [
    "headlines = [head.get_text() for head in soup.find_all(class_=\"heading\")]"
   ]
  },
  {
   "cell_type": "markdown",
   "metadata": {},
   "source": [
    "# ToDo"
   ]
  },
  {
   "cell_type": "markdown",
   "metadata": {},
   "source": [
    "Read and implement algorithm of document categorize on keyword"
   ]
  },
  {
   "cell_type": "code",
   "execution_count": null,
   "metadata": {},
   "outputs": [],
   "source": []
  }
 ],
 "metadata": {
  "kernelspec": {
   "display_name": "Python 3",
   "language": "python",
   "name": "python3"
  },
  "language_info": {
   "codemirror_mode": {
    "name": "ipython",
    "version": 3
   },
   "file_extension": ".py",
   "mimetype": "text/x-python",
   "name": "python",
   "nbconvert_exporter": "python",
   "pygments_lexer": "ipython3",
   "version": "3.7.3"
  }
 },
 "nbformat": 4,
 "nbformat_minor": 2
}
